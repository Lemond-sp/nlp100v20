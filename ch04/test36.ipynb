{
 "cells": [
  {
   "cell_type": "code",
   "execution_count": 2,
   "metadata": {},
   "outputs": [],
   "source": [
    "'''\n",
    "出現頻度が高い10語とその出現頻度をグラフ（例えば棒グラフなど）で表示せよ．\n",
    "別解：collectionを用いる方法\n",
    "'''\n",
    "import MeCab\n",
    "import collections\n",
    "f = open('neko.txt')\n",
    "text = f.read()  # ファイル終端まで全て読んだデータを返す\n",
    "f.close()\n",
    "m = MeCab.Tagger('-Ochasen')\n",
    "\n",
    "node = m.parseToNode(text)\n",
    "words = []\n",
    "while node:\n",
    "  words.append(node.surface)\n",
    "  node = node.next\n",
    "\n",
    "c = collections.Counter(words)"
   ]
  },
  {
   "cell_type": "code",
   "execution_count": null,
   "metadata": {},
   "outputs": [],
   "source": [
    "import seaborn as sns\n",
    "import matplotlib.pyplot as plt\n",
    "import japanize_matplotlib\n",
    "sns.set(context=\"notebook\")\n",
    "japanize_matplotlib.japanize()\n",
    "fig = plt.subplots(figsize=(8, 8))\n",
    " \n",
    "sns.countplot(y=words,order=[i[0] for i in c.most_common(20)])"
   ]
  }
 ],
 "metadata": {
  "interpreter": {
   "hash": "6b5970fff7b44f1ee4a6d4b0ca96db3797c62101710bd52dba5be0bf41534470"
  },
  "kernelspec": {
   "display_name": "Python 3.8.8 64-bit ('base': conda)",
   "name": "python3"
  },
  "language_info": {
   "codemirror_mode": {
    "name": "ipython",
    "version": 3
   },
   "file_extension": ".py",
   "mimetype": "text/x-python",
   "name": "python",
   "nbconvert_exporter": "python",
   "pygments_lexer": "ipython3",
   "version": "3.8.8"
  },
  "orig_nbformat": 4
 },
 "nbformat": 4,
 "nbformat_minor": 2
}

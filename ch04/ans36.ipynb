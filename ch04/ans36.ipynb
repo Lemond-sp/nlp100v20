{
 "cells": [
  {
   "attachments": {},
   "cell_type": "markdown",
   "metadata": {},
   "source": [
    "## 36.頻度上位10語\n",
    "出現頻度が高い10語とその出現頻度をグラフ（例えば棒グラフなど）で表示せよ\n",
    "\n",
    "pythonファイルでは、matplotlibが上手く動かないためnotebook使用(原因不明)"
   ]
  },
  {
   "attachments": {},
   "cell_type": "markdown",
   "metadata": {},
   "source": [
    "### ans35より"
   ]
  },
  {
   "cell_type": "code",
   "execution_count": 1,
   "metadata": {},
   "outputs": [
    {
     "name": "stdout",
     "output_type": "stream",
     "text": [
      "語彙数：13584\n",
      "[('の', 9194), ('。', 7486), ('て', 6868), ('、', 6772), ('は', 6420), ('に', 6243), ('を', 6071), ('と', 5508), ('が', 5337), ('た', 3988)]\n"
     ]
    }
   ],
   "source": [
    "with open('./neko.txt.mecab','r') as f:\n",
    "  text_dict = []\n",
    "  sentence_dict = []\n",
    "  # f.read:改行も含めた文字列\n",
    "  # f.readlines:改行コードを区切って１行ごとに分解されたリスト\n",
    "  for line in f.readlines():\n",
    "    if line == '\\n':\n",
    "      continue\n",
    "    # １文\n",
    "    elif line != 'EOS\\n':\n",
    "      node = line.split('\\t')\n",
    "      # surfaceが空白の場合除外\n",
    "      if node[0] == '':\n",
    "        continue\n",
    "      # surface 以外はnode[1]\n",
    "      feature = node[1].split(',')\n",
    "      word_dict = {\n",
    "        \"surface\":node[0],\n",
    "        \"base\":feature[6],\n",
    "        \"pos\":feature[0],\n",
    "        \"pos1\":feature[1]\n",
    "      }\n",
    "      sentence_dict.append(word_dict)\n",
    "    # 追加\n",
    "    # 追加文が無い場合は除外(elseだと、つまり無い場合も追加したら9210→9964)\n",
    "    elif len(sentence_dict) != 0:\n",
    "      text_dict.append(sentence_dict)\n",
    "      sentence_dict = []\n",
    "\n",
    "# 35 単語(surface?)とその出現頻度を高い順\n",
    "import itertools\n",
    "verb_dict = []\n",
    "sentence_dict = itertools.chain.from_iterable(text_dict)\n",
    "# 語彙セット\n",
    "surface_dict = set()\n",
    "# 語彙セット(重複あり)\n",
    "surface = []\n",
    "# 単語のセット\n",
    "for sentence in sentence_dict:\n",
    "  surface_dict.add(sentence['surface'])\n",
    "  surface.append(sentence['surface'])\n",
    "\n",
    "# 語彙数\n",
    "print(f'語彙数：{len(surface_dict)}')\n",
    "\n",
    "\n",
    "from collections import defaultdict\n",
    "word_freq = defaultdict(int)\n",
    "\n",
    "for word in surface:\n",
    "  word_freq[word] += 1\n",
    "# 辞書のvalueを基準に 降順にソート\n",
    "# keyを基準にする場合、hoge = sorted(hoge.items())\n",
    "word_freq = sorted(word_freq.items(),key = lambda word:word[1],reverse=True)\n",
    "print(word_freq[:10])"
   ]
  },
  {
   "cell_type": "code",
   "execution_count": null,
   "metadata": {},
   "outputs": [],
   "source": [
    "import matplotlib.pyplot as plt\n",
    "import japanize_matplotlib\n",
    "word_top10 = word_freq[:10]\n",
    "x,y = zip(*word_top10)\n",
    "plt.bar(x,y)\n",
    "plt.xlabel('吾輩は猫である-頻度上位10語')\n",
    "plt.ylabel('件数')\n",
    "plt.show()"
   ]
  }
 ],
 "metadata": {
  "interpreter": {
   "hash": "6b5970fff7b44f1ee4a6d4b0ca96db3797c62101710bd52dba5be0bf41534470"
  },
  "kernelspec": {
   "display_name": "Python 3.8.8 64-bit ('base': conda)",
   "name": "python3"
  },
  "language_info": {
   "codemirror_mode": {
    "name": "ipython",
    "version": 3
   },
   "file_extension": ".py",
   "mimetype": "text/x-python",
   "name": "python",
   "nbconvert_exporter": "python",
   "pygments_lexer": "ipython3",
   "version": "3.8.8"
  },
  "orig_nbformat": 4
 },
 "nbformat": 4,
 "nbformat_minor": 2
}

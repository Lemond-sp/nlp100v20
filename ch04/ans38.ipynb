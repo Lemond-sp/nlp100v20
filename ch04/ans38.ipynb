{
 "cells": [
  {
   "attachments": {},
   "cell_type": "markdown",
   "metadata": {},
   "source": [
    "## 38:ヒストグラム\n",
    "\n",
    "単語の出現頻度のヒストグラムを描け．ただし，横軸は出現頻度を表し，1から単語の出現頻度の最大値までの線形目盛とする．縦軸はx軸で示される出現頻度となった単語の異なり数（種類数）である"
   ]
  },
  {
   "cell_type": "code",
   "execution_count": 1,
   "metadata": {},
   "outputs": [],
   "source": [
    "from collections import defaultdict,Counter\n",
    "import collections\n",
    "import matplotlib.pyplot as plt\n",
    "import japanize_matplotlib"
   ]
  },
  {
   "cell_type": "code",
   "execution_count": 2,
   "metadata": {},
   "outputs": [
    {
     "name": "stdout",
     "output_type": "stream",
     "text": [
      "語彙数：11251\n",
      "[('の', 9194), ('。', 7486), ('て', 6848), ('、', 6772), ('は', 6420), ('に', 6243), ('を', 6071), ('だ', 5972), ('と', 5508), ('が', 5337)]\n"
     ]
    }
   ],
   "source": [
    "with open('./neko.txt.mecab','r') as f:\n",
    "  text_dict = []\n",
    "  sentence_dict = []\n",
    "  # f.read:改行も含めた文字列\n",
    "  # f.readlines:改行コードを区切って１行ごとに分解されたリスト\n",
    "  for line in f.readlines():\n",
    "    if line == '\\n':\n",
    "      continue\n",
    "    # １文\n",
    "    elif line != 'EOS\\n':\n",
    "      node = line.split('\\t')\n",
    "      # surfaceが空白の場合除外\n",
    "      if node[0] == '':\n",
    "        continue\n",
    "      # surface 以外はnode[1]\n",
    "      feature = node[1].split(',')\n",
    "      word_dict = {\n",
    "        \"surface\":node[0],\n",
    "        \"base\":feature[6],\n",
    "        \"pos\":feature[0],\n",
    "        \"pos1\":feature[1]\n",
    "      }\n",
    "      sentence_dict.append(word_dict)\n",
    "    # 追加\n",
    "    # 追加文が無い場合は除外(elseだと、つまり無い場合も追加したら9210→9964)\n",
    "    elif len(sentence_dict) != 0:\n",
    "      text_dict.append(sentence_dict)\n",
    "      sentence_dict = []\n",
    "\n",
    "# 35 単語(surface?)とその出現頻度を高い順\n",
    "import itertools\n",
    "verb_dict = []\n",
    "sentence_dict = itertools.chain.from_iterable(text_dict)\n",
    "# 語彙セット\n",
    "surface_dict = set()\n",
    "# 語彙セット(重複あり)\n",
    "surface = []\n",
    "# 単語のセット\n",
    "for sentence in sentence_dict:\n",
    "  surface_dict.add(sentence['base'])\n",
    "  surface.append(sentence['base'])\n",
    "\n",
    "# 語彙数\n",
    "print(f'語彙数：{len(surface_dict)}')\n",
    "\n",
    "\n",
    "from collections import defaultdict\n",
    "word_freq = defaultdict(int)\n",
    "\n",
    "for word in surface:\n",
    "  word_freq[word] += 1\n",
    "# 辞書のvalueを基準に 降順にソート\n",
    "# keyを基準にする場合、hoge = sorted(hoge.items())\n",
    "word_freq = sorted(word_freq.items(),key = lambda word:word[1],reverse=True)\n",
    "print(word_freq[:10])"
   ]
  },
  {
   "cell_type": "code",
   "execution_count": null,
   "metadata": {},
   "outputs": [],
   "source": [
    "dict_word_freq = dict(word_freq)\n",
    "plt.figure()\n",
    "plt.hist(dict_word_freq.values(),bis=100)\n",
    "plt.xlabel(\"頻度(上位30件)\")\n",
    "plt.ylabel(\"種類数\")\n",
    "plt.show()"
   ]
  }
 ],
 "metadata": {
  "kernelspec": {
   "display_name": "py37",
   "language": "python",
   "name": "python3"
  },
  "language_info": {
   "codemirror_mode": {
    "name": "ipython",
    "version": 3
   },
   "file_extension": ".py",
   "mimetype": "text/x-python",
   "name": "python",
   "nbconvert_exporter": "python",
   "pygments_lexer": "ipython3",
   "version": "3.8.8"
  },
  "orig_nbformat": 4,
  "vscode": {
   "interpreter": {
    "hash": "0bbcfcc1b2607f9590d16c6d822fed489540cbd3ba0db4dddb602648fbc29ae6"
   }
  }
 },
 "nbformat": 4,
 "nbformat_minor": 2
}

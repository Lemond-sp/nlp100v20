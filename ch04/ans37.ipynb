{
 "cells": [
  {
   "attachments": {},
   "cell_type": "markdown",
   "metadata": {},
   "source": [
    "## 37:「猫」と共起頻度の高い上位10語\n",
    "\n",
    "「猫」とよく共起する（共起頻度が高い）10語とその出現頻度をグラフ（例えば棒グラフなど）で表示せよ"
   ]
  },
  {
   "cell_type": "code",
   "execution_count": 1,
   "metadata": {},
   "outputs": [],
   "source": [
    "from collections import defaultdict,Counter\n",
    "import collections\n",
    "import matplotlib.pyplot as plt\n",
    "import japanize_matplotlib"
   ]
  },
  {
   "cell_type": "code",
   "execution_count": 2,
   "metadata": {},
   "outputs": [],
   "source": [
    "with open('./neko.txt.mecab','r') as f:\n",
    "  text_dict = []\n",
    "  sentence_dict = []\n",
    "  # f.read:改行も含めた文字列\n",
    "  # f.readlines:改行コードを区切って１行ごとに分解されたリスト\n",
    "  for line in f.readlines():\n",
    "    if line == '\\n':\n",
    "      continue\n",
    "    # １文\n",
    "    elif line != 'EOS\\n':\n",
    "      node = line.split('\\t')\n",
    "      # surfaceが空白の場合除外\n",
    "      if node[0] == '':\n",
    "        continue\n",
    "      # surface 以外はnode[1]\n",
    "      feature = node[1].split(',')\n",
    "      word_dict = {\n",
    "        \"surface\":node[0],\n",
    "        \"base\":feature[6],\n",
    "        \"pos\":feature[0],\n",
    "        \"pos1\":feature[1]\n",
    "      }\n",
    "      sentence_dict.append(word_dict)\n",
    "    # 追加\n",
    "    # 追加文が無い場合は除外(elseだと、つまり無い場合も追加したら9210→9964)\n",
    "    elif len(sentence_dict) != 0:\n",
    "      text_dict.append(sentence_dict)\n",
    "      sentence_dict = []\n",
    "\n",
    "# 35 単語(surface?)とその出現頻度を高い順\n",
    "import itertools\n",
    "verb_dict = []\n",
    "sentence_dict = itertools.chain.from_iterable(text_dict)\n"
   ]
  },
  {
   "cell_type": "code",
   "execution_count": null,
   "metadata": {},
   "outputs": [],
   "source": [
    "neko_cooc = Counter([])\n",
    "for sentence in text_dict:\n",
    "  words = [word['base'] for word in sentence]\n",
    "\n",
    "  if \"猫\" in words:\n",
    "    neko_cooc+= Counter(words)\n",
    "neko_cooc = dict(neko_cooc.most_common()[:11])\n",
    "neko_cooc.pop(\"猫\")\n",
    "\n",
    "plt.figure()\n",
    "plt.bar(neko_cooc.keys(),neko_cooc.values())\n",
    "plt.show()"
   ]
  }
 ],
 "metadata": {
  "interpreter": {
   "hash": "6b5970fff7b44f1ee4a6d4b0ca96db3797c62101710bd52dba5be0bf41534470"
  },
  "kernelspec": {
   "display_name": "Python 3.8.8 64-bit ('base': conda)",
   "name": "python3"
  },
  "language_info": {
   "codemirror_mode": {
    "name": "ipython",
    "version": 3
   },
   "file_extension": ".py",
   "mimetype": "text/x-python",
   "name": "python",
   "nbconvert_exporter": "python",
   "pygments_lexer": "ipython3",
   "version": "3.8.8"
  },
  "orig_nbformat": 4
 },
 "nbformat": 4,
 "nbformat_minor": 2
}
